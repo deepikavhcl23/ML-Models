{
  "nbformat": 4,
  "nbformat_minor": 0,
  "metadata": {
    "colab": {
      "provenance": [],
      "authorship_tag": "ABX9TyNAHgoI+y82jZCI8W+tO8nR",
      "include_colab_link": true
    },
    "kernelspec": {
      "name": "python3",
      "display_name": "Python 3"
    },
    "language_info": {
      "name": "python"
    }
  },
  "cells": [
    {
      "cell_type": "markdown",
      "metadata": {
        "id": "view-in-github",
        "colab_type": "text"
      },
      "source": [
        "<a href=\"https://colab.research.google.com/github/deepikavhcl23/ML-Models/blob/main/BankLoan_classification.ipynb\" target=\"_parent\"><img src=\"https://colab.research.google.com/assets/colab-badge.svg\" alt=\"Open In Colab\"/></a>"
      ]
    },
    {
      "cell_type": "code",
      "execution_count": 2,
      "metadata": {
        "colab": {
          "base_uri": "https://localhost:8080/"
        },
        "id": "kvibu_YLlyCn",
        "outputId": "d6b361d7-7dfa-4957-8337-d930a5685fa8"
      },
      "outputs": [
        {
          "output_type": "stream",
          "name": "stdout",
          "text": [
            "\n",
            "The model selected is KNeighborsClassifier(n_neighbors=7)\n",
            "\n",
            "The parameters of the model are\n",
            "\n",
            " {'algorithm': 'auto', 'leaf_size': 30, 'metric': 'minkowski', 'metric_params': None, 'n_jobs': None, 'n_neighbors': 7, 'p': 2, 'weights': 'uniform'}\n",
            "\n",
            "\n",
            "The test inputs are\n",
            "\n",
            "        age  loanamount\n",
            "41  149000           0\n",
            "25   40000           1\n",
            "35   60000           1\n",
            "45   80000           1\n",
            "20   20000           1\n",
            "35  120000           1\n",
            "52   18000           0\n",
            "23   95000           0\n",
            "40   62000           0\n",
            "60  100000           0\n",
            "48  220000           0\n",
            "33  150000           0\n",
            "\n",
            "The test results are\n",
            "\n",
            " ['WillPay', 'WillPay', 'WillPay', 'WillPay']\n"
          ]
        }
      ],
      "source": [
        "\n",
        "# KNN Classification\n",
        "from pandas import read_csv\n",
        "from sklearn.neighbors import KNeighborsClassifier\n",
        "\n",
        "\n",
        "# step 1: reading the data and splitting it to input and output\n",
        "filename = '/content/bankloan_classification_train.csv'\n",
        "headernames = ['age', 'loanamount', 'status']\n",
        "df = read_csv(filename, names=headernames)\n",
        "array = df.values\n",
        "inputx = array[:,0:2]\n",
        "outputy = array[:,2]\n",
        "\n",
        "\n",
        "# step 2: selecting the KNN model\n",
        "thismodel = KNeighborsClassifier(n_neighbors=7)\n",
        "print(\"\\nThe model selected is\",thismodel)\n",
        "print(\"\\nThe parameters of the model are\\n\\n\",thismodel.get_params())\n",
        "#print(thismodel.set_params())\n",
        "\n",
        "\n",
        "# step 3: training the model\n",
        "thismodel.fit(inputx,outputy)\n",
        "\n",
        "\n",
        "# step 4: testing and model prediction\n",
        "filename = '/content/bankloan_classification_train.csv'\n",
        "names = ['age', 'loanamount']\n",
        "newdataframe = read_csv(filename, names=names)\n",
        "array = newdataframe.values\n",
        "testinputz = array[0:4,0:2]\n",
        "print(\"\\n\\nThe test inputs are\\n\\n\",newdataframe)\n",
        "res=thismodel.predict(testinputz)\n",
        "\n",
        "\n",
        "# step 5: visualizing the test results\n",
        "reslist=[]\n",
        "for val in res:\n",
        "    if val==0:\n",
        "        reslist.append(\"WillNotPay\")\n",
        "    else:\n",
        "        reslist.append(\"WillPay\")\n",
        "print(\"\\nThe test results are\\n\\n\",reslist)\n",
        "#res=thismodel.predict(testinputz)\n",
        "#print(thismodel.predict(testinputz))"
      ]
    }
  ]
}