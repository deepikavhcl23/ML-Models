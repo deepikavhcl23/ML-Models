{
  "nbformat": 4,
  "nbformat_minor": 0,
  "metadata": {
    "colab": {
      "provenance": [],
      "authorship_tag": "ABX9TyP6H65nVqmPMNg22EMFFK2k",
      "include_colab_link": true
    },
    "kernelspec": {
      "name": "python3",
      "display_name": "Python 3"
    },
    "language_info": {
      "name": "python"
    }
  },
  "cells": [
    {
      "cell_type": "markdown",
      "metadata": {
        "id": "view-in-github",
        "colab_type": "text"
      },
      "source": [
        "<a href=\"https://colab.research.google.com/github/deepikavhcl23/ML-Models/blob/main/Salary_regression_.ipynb\" target=\"_parent\"><img src=\"https://colab.research.google.com/assets/colab-badge.svg\" alt=\"Open In Colab\"/></a>"
      ]
    },
    {
      "cell_type": "code",
      "execution_count": null,
      "metadata": {
        "id": "APdWQLOV0Nqh"
      },
      "outputs": [],
      "source": [
        "import numpy as np\n",
        "import matplotlib.pyplot as plt\n",
        "import pandas as pd\n",
        "from sklearn.model_selection import train_test_split\n",
        "from sklearn.linear_model import LinearRegression"
      ]
    },
    {
      "cell_type": "code",
      "source": [],
      "metadata": {
        "id": "Ry5YwMevAoGE"
      },
      "execution_count": null,
      "outputs": []
    },
    {
      "cell_type": "code",
      "source": [
        "dataset = pd.read_csv('https://raw.githubusercontent.com/enuguru/aiandml/master/datasets/salary_regression_train.csv')\n",
        "inputx = dataset.iloc[:, :-1].values\n",
        "outputy = dataset.iloc[:, 1].values"
      ],
      "metadata": {
        "id": "RFA0WQQL0oob"
      },
      "execution_count": null,
      "outputs": []
    },
    {
      "cell_type": "code",
      "source": [
        "print(dataset)"
      ],
      "metadata": {
        "colab": {
          "base_uri": "https://localhost:8080/"
        },
        "id": "FvFznDUa0lhw",
        "outputId": "d6f8f45e-4bc3-4de1-9057-f4cdfcff4375"
      },
      "execution_count": null,
      "outputs": [
        {
          "output_type": "stream",
          "name": "stdout",
          "text": [
            "    YearsExperience    Salary\n",
            "0               1.1   39343.0\n",
            "1               1.3   46205.0\n",
            "2               1.5   37731.0\n",
            "3               2.0   43525.0\n",
            "4               2.2   39891.0\n",
            "5               2.9   56642.0\n",
            "6               3.0   60150.0\n",
            "7               3.2   54445.0\n",
            "8               3.2   64445.0\n",
            "9               3.7   57189.0\n",
            "10              3.9   63218.0\n",
            "11              4.0   55794.0\n",
            "12              4.0   56957.0\n",
            "13              4.1   57081.0\n",
            "14              4.5   61111.0\n",
            "15              4.9   67938.0\n",
            "16              5.1   66029.0\n",
            "17              5.3   83088.0\n",
            "18              5.9   81363.0\n",
            "19              6.0   93940.0\n",
            "20              6.8   91738.0\n",
            "21              7.1   98273.0\n",
            "22              7.9  101302.0\n",
            "23              8.2  113812.0\n",
            "24              8.7  109431.0\n",
            "25              9.0  105582.0\n",
            "26              9.5  116969.0\n",
            "27              9.6  112635.0\n",
            "28             10.3  122391.0\n",
            "29             10.5  121872.0\n"
          ]
        }
      ]
    },
    {
      "cell_type": "code",
      "source": [
        "input_train, input_test, output_train, output_test = train_test_split(inputx, outputy, test_size = 1/4, random_state = 7)"
      ],
      "metadata": {
        "id": "s7Mx5tE_0vEv"
      },
      "execution_count": null,
      "outputs": []
    },
    {
      "cell_type": "code",
      "source": [
        "model = LinearRegression()\n",
        "print(\"\\nThe parameters of the model are\\n\\n\",model.get_params())\n",
        "#print(model.set_params())\n",
        "print(\"\\nThe model we are using is \", model.fit(input_train, output_train))"
      ],
      "metadata": {
        "colab": {
          "base_uri": "https://localhost:8080/"
        },
        "id": "0MjZ3MPc0z4-",
        "outputId": "3f6c3628-0f28-4a72-979f-239f91aa7a08"
      },
      "execution_count": null,
      "outputs": [
        {
          "output_type": "stream",
          "name": "stdout",
          "text": [
            "\n",
            "The parameters of the model are\n",
            "\n",
            " {'copy_X': True, 'fit_intercept': True, 'n_jobs': None, 'positive': False}\n",
            "\n",
            "The model we are using is  LinearRegression()\n"
          ]
        }
      ]
    },
    {
      "cell_type": "code",
      "source": [
        "years = float(input(\"\\nGive number of years of experience  \"))\n",
        "testinput = [[years]]\n",
        "predicted_output = model.predict(testinput)\n",
        "print('\\nThe number of years of experience is ',testinput)\n",
        "print('\\nThe salary for the number of years of experience is ',predicted_output)\n",
        "yes = input(\"\\nCan I proceed\\n\")"
      ],
      "metadata": {
        "colab": {
          "base_uri": "https://localhost:8080/"
        },
        "id": "JaS8kcYm02sW",
        "outputId": "552a2b50-2332-436c-c28c-da7fce99086b"
      },
      "execution_count": null,
      "outputs": [
        {
          "name": "stdout",
          "output_type": "stream",
          "text": [
            "\n",
            "Give number of years of experience  7.0\n",
            "\n",
            "The number of years of experience is  [[7.0]]\n",
            "\n",
            "The salary for the number of years of experience is  [91753.71618073]\n",
            "\n",
            "Can I proceed\n",
            "yes\n"
          ]
        }
      ]
    },
    {
      "cell_type": "code",
      "source": [
        "plt.scatter(input_train, output_train, color = 'red')\n",
        "plt.plot(input_train, model.predict(input_train), color = 'yellow')\n",
        "plt.title('Salary vs Experience (Training set)')\n",
        "plt.xlabel('Years of Experience')\n",
        "plt.ylabel('Salary')\n",
        "plt.show()"
      ],
      "metadata": {
        "colab": {
          "base_uri": "https://localhost:8080/",
          "height": 472
        },
        "id": "kYUbk4Vg09y6",
        "outputId": "b46059d3-fec2-44c9-dae8-2b8bdd34eca9"
      },
      "execution_count": null,
      "outputs": [
        {
          "output_type": "display_data",
          "data": {
            "text/plain": [
              "<Figure size 640x480 with 1 Axes>"
            ],
            "image/png": "[encoded data removed]"
          },
          "metadata": {}
        }
      ]
    },
    {
      "cell_type": "code",
      "source": [
        "print(\"\\nThe test input (number of years of experience) is as follows \\n\")\n",
        "print(input_test)\n",
        "# model predicting the Test set results\n",
        "predicted_output = model.predict(input_test)\n",
        "print(\"\\nThe output (salary) for the test input is as follows \\n\")\n",
        "print(predicted_output)"
      ],
      "metadata": {
        "colab": {
          "base_uri": "https://localhost:8080/"
        },
        "id": "X09YN1Yg0_pZ",
        "outputId": "edb2660c-1947-4d5b-a56c-618880a20246"
      },
      "execution_count": null,
      "outputs": [
        {
          "output_type": "stream",
          "name": "stdout",
          "text": [
            "\n",
            "The test input (number of years of experience) is as follows \n",
            "\n",
            "[[1.5]\n",
            " [5.3]\n",
            " [1.3]\n",
            " [3.7]\n",
            " [4. ]\n",
            " [2.9]\n",
            " [5.9]\n",
            " [8.7]]\n",
            "\n",
            "The output (salary) for the test input is as follows \n",
            "\n",
            "[ 39329.30192021  75549.80631839  37422.95958346  60299.06762442\n",
            "  63158.58112954  52673.69827743  81268.83332863 107957.62604308]\n"
          ]
        }
      ]
    },
    {
      "cell_type": "code",
      "source": [
        "!git config --global user.email \"deepikavhcl23.com\""
      ],
      "metadata": {
        "id": "uu_s1ggJApIs"
      },
      "execution_count": 1,
      "outputs": []
    },
    {
      "cell_type": "code",
      "source": [
        "!git config --global user.name \"Deepika V\""
      ],
      "metadata": {
        "id": "DZGVFmGmAyAR"
      },
      "execution_count": 2,
      "outputs": []
    },
    {
      "cell_type": "code",
      "source": [
        "!git clone https://github.com/deepikavhcl23/ML-Models.git\n"
      ],
      "metadata": {
        "colab": {
          "base_uri": "https://localhost:8080/"
        },
        "id": "dyNFUvCrA8cU",
        "outputId": "f4534841-8cc5-4d1b-eb1b-48c167394331"
      },
      "execution_count": 4,
      "outputs": [
        {
          "output_type": "stream",
          "name": "stdout",
          "text": [
            "Cloning into 'ML-Models'...\n",
            "remote: Enumerating objects: 3, done.\u001b[K\n",
            "remote: Counting objects:  33% (1/3)\u001b[K\rremote: Counting objects:  66% (2/3)\u001b[K\rremote: Counting objects: 100% (3/3)\u001b[K\rremote: Counting objects: 100% (3/3), done.\u001b[K\n",
            "remote: Compressing objects:  50% (1/2)\u001b[K\rremote: Compressing objects: 100% (2/2)\u001b[K\rremote: Compressing objects: 100% (2/2), done.\u001b[K\n",
            "remote: Total 3 (delta 0), reused 0 (delta 0), pack-reused 0 (from 0)\u001b[K\n",
            "Receiving objects:  33% (1/3)\rReceiving objects:  66% (2/3)\rReceiving objects: 100% (3/3)\rReceiving objects: 100% (3/3), done.\n"
          ]
        }
      ]
    },
    {
      "cell_type": "code",
      "source": [
        "!mv Salary_regression.ipynb ML-Models/\n"
      ],
      "metadata": {
        "colab": {
          "base_uri": "https://localhost:8080/"
        },
        "id": "nYP-cwAAC74V",
        "outputId": "dfa604e6-d7c6-4f91-c1bb-6dceed0629c1"
      },
      "execution_count": 14,
      "outputs": [
        {
          "output_type": "stream",
          "name": "stdout",
          "text": [
            "mv: cannot stat 'Salary_regression.ipynb': No such file or directory\n"
          ]
        }
      ]
    }
  ]
}