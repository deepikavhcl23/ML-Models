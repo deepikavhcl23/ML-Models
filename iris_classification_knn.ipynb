{
  "nbformat": 4,
  "nbformat_minor": 0,
  "metadata": {
    "colab": {
      "provenance": [],
      "authorship_tag": "ABX9TyN+l9Z8LacGAE/yULPDwLBi",
      "include_colab_link": true
    },
    "kernelspec": {
      "name": "python3",
      "display_name": "Python 3"
    },
    "language_info": {
      "name": "python"
    }
  },
  "cells": [
    {
      "cell_type": "markdown",
      "metadata": {
        "id": "view-in-github",
        "colab_type": "text"
      },
      "source": [
        "<a href=\"https://colab.research.google.com/github/deepikavhcl23/ML-Models/blob/main/iris_classification_knn.ipynb\" target=\"_parent\"><img src=\"https://colab.research.google.com/assets/colab-badge.svg\" alt=\"Open In Colab\"/></a>"
      ]
    },
    {
      "cell_type": "code",
      "execution_count": 4,
      "metadata": {
        "colab": {
          "base_uri": "https://localhost:8080/"
        },
        "id": "LnGo3mOCh3K2",
        "outputId": "dcb083e2-6a34-4c8d-c81d-a6349c97a472"
      },
      "outputs": [
        {
          "output_type": "stream",
          "name": "stdout",
          "text": [
            "[0]\n",
            "\n",
            "The model selected is KNeighborsClassifier()\n",
            "\n",
            "     sepal_length  sepal_width  petal_length  petal_width\n",
            "0            5.1          3.5           1.4          0.2\n",
            "1            4.9          3.0           1.4          0.2\n",
            "2            4.7          3.2           1.3          0.2\n",
            "3            4.6          3.1           1.5          0.2\n",
            "4            5.0          3.6           1.4          0.2\n",
            "5            7.0          3.2           4.7          1.4\n",
            "6            6.4          3.2           4.5          1.5\n",
            "7            6.9          3.1           4.9          1.5\n",
            "8            5.5          2.3           4.0          1.3\n",
            "9            6.5          2.8           4.6          1.5\n",
            "10           5.7          2.8           4.1          1.3\n",
            "11           6.3          3.3           6.0          2.5\n",
            "12           5.8          2.7           5.1          1.9\n",
            "13           7.1          3.0           5.9          2.1\n",
            "14           6.3          2.9           5.6          1.8\n",
            "15           6.5          3.0           5.8          2.2\n",
            "16           7.6          3.0           6.6          2.1 \n",
            "\n",
            "[0. 0. 0. 0. 0. 0. 0. 0. 0. 0. 0. 0. 0. 0. 0. 0. 0.] \n",
            "\n",
            "Iris_Setosa  Iris_Setosa  Iris_Setosa  Iris_Setosa  Iris_Setosa  Iris_Setosa  Iris_Setosa  Iris_Setosa  Iris_Setosa  Iris_Setosa  Iris_Setosa  Iris_Setosa  Iris_Setosa  Iris_Setosa  Iris_Setosa  Iris_Setosa  Iris_Setosa  \n",
            "\n",
            "\n"
          ]
        }
      ],
      "source": [
        "# KNN Classification\n",
        "\n",
        "# step 1: import the required modules\n",
        "from pandas import read_csv\n",
        "from sklearn.model_selection import KFold\n",
        "from sklearn.model_selection import cross_val_score\n",
        "from sklearn.linear_model import LogisticRegression\n",
        "from sklearn import preprocessing\n",
        "from sklearn.neighbors import KNeighborsClassifier\n",
        "\n",
        "# step 2: read the data from the csv file\n",
        "filename = 'https://raw.githubusercontent.com/enuguru/aiandml/refs/heads/master/datasets/iris_classification_test.csv'\n",
        "names = ['sepal_length', 'sepal_width', 'petal_length', 'petal_width','flower_name']\n",
        "df = read_csv(filename, names=names)\n",
        "\n",
        "# step 3: do preprocessing - in this case do label encoding for the last column\n",
        "# label_encoder object knows how to understand word labels.\n",
        "label_encoder = preprocessing.LabelEncoder()\n",
        "df['flower_name']= label_encoder.fit_transform(df['flower_name'])\n",
        "\n",
        "# step 4: split to input and output\n",
        "print(df['flower_name'].unique())\n",
        "array = df.values\n",
        "inputx = array[:,0:4]\n",
        "outputy = array[:,4]\n",
        "\n",
        "# step 5: select the model\n",
        "model = KNeighborsClassifier()\n",
        "print(\"\\nThe model selected is\",model)\n",
        "\n",
        "# step 6: train or build the model\n",
        "model.fit(inputx,outputy)\n",
        "\n",
        "# step 7: do testing or model prediction\n",
        "filename = 'https://raw.githubusercontent.com/enuguru/aiandml/refs/heads/master/datasets/iris_classification_test.csv'\n",
        "names = ['sepal_length', 'sepal_width', 'petal_length', 'petal_width']\n",
        "newdataframe = read_csv(filename, names=names)\n",
        "array = newdataframe.values\n",
        "z = array[:,0:4]\n",
        "print(\"\\n\",newdataframe,\"\\n\")\n",
        "res=model.predict(z)\n",
        "reslist=[]\n",
        "\n",
        "\n",
        "# step 8: visualize the test results\n",
        "print(model.predict(z),\"\\n\")\n",
        "for val in res:\n",
        "    if val==0:\n",
        "        print(\"Iris_Setosa\",end=\" \")\n",
        "    elif val == 1:\n",
        "        print(\"Iris_Versicolor\",end=\" \")\n",
        "    else:\n",
        "        print(\"Iris_Viginica\",end=\" \")\n",
        "    print(end=\" \")\n",
        "print(\"\\n\\n\")"
      ]
    }
  ]
}